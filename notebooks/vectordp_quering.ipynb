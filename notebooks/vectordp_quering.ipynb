{
 "cells": [
  {
   "cell_type": "code",
   "execution_count": 9,
   "id": "f3327dbf",
   "metadata": {},
   "outputs": [],
   "source": [
    "raw_documents = [\n",
    "  {\n",
    "    \"document\": \"A Web API is an interface that allows different software systems to communicate using the internet.\",\n",
    "    \"metadata\": { \"topic\": \"Introduction to Web APIs\", \"level\": \"beginner\" }\n",
    "  },\n",
    "  {\n",
    "    \"document\": \"REST APIs rely on HTTP methods like GET, POST, PUT, and DELETE to perform operations on resources.\",\n",
    "    \"metadata\": { \"topic\": \"REST Basics\", \"level\": \"beginner\" }\n",
    "  },\n",
    "  {\n",
    "    \"document\": \"In REST, resources are identified by URLs, and data is usually exchanged in JSON or XML format.\",\n",
    "    \"metadata\": { \"topic\": \"REST Resources\", \"level\": \"beginner\" }\n",
    "  },\n",
    "  {\n",
    "    \"document\": \"SOAP APIs use XML messages and follow strict standards, making them reliable for financial or enterprise systems.\",\n",
    "    \"metadata\": { \"topic\": \"SOAP APIs\", \"level\": \"advanced\" }\n",
    "  },\n",
    "  {\n",
    "    \"document\": \"GraphQL allows clients to query specific fields, reducing the problem of over-fetching data.\",\n",
    "    \"metadata\": { \"topic\": \"GraphQL Basics\", \"level\": \"beginner\" }\n",
    "  },\n",
    "  {\n",
    "    \"document\": \"In GraphQL, the schema defines types and relationships, enabling precise data fetching.\",\n",
    "    \"metadata\": { \"topic\": \"GraphQL Schema\", \"level\": \"advanced\" }\n",
    "  },\n",
    "  {\n",
    "    \"document\": \"API authentication ensures only authorized users can access endpoints.\",\n",
    "    \"metadata\": { \"topic\": \"API Authentication\", \"level\": \"beginner\" }\n",
    "  },\n",
    "  {\n",
    "    \"document\": \"OAuth 2.0 provides secure delegated access, allowing third-party apps to act on behalf of users.\",\n",
    "    \"metadata\": { \"topic\": \"OAuth 2.0\", \"level\": \"advanced\" }\n",
    "  },\n",
    "  {\n",
    "    \"document\": \"JSON Web Tokens (JWT) are widely used for stateless authentication in APIs.\",\n",
    "    \"metadata\": { \"topic\": \"JWT Authentication\", \"level\": \"advanced\" }\n",
    "  },\n",
    "  {\n",
    "    \"document\": \"An API key is a simple token used to identify and authenticate clients.\",\n",
    "    \"metadata\": { \"topic\": \"API Keys\", \"level\": \"beginner\" }\n",
    "  },\n",
    "  {\n",
    "    \"document\": \"CORS (Cross-Origin Resource Sharing) defines how a browser allows APIs to be accessed from other domains.\",\n",
    "    \"metadata\": { \"topic\": \"CORS\", \"level\": \"beginner\" }\n",
    "  },\n",
    "  {\n",
    "    \"document\": \"Rate limiting restricts the number of API calls to prevent abuse and ensure fairness.\",\n",
    "    \"metadata\": { \"topic\": \"Rate Limiting\", \"level\": \"advanced\" }\n",
    "  },\n",
    "  {\n",
    "    \"document\": \"Caching API responses improves performance and reduces server load.\",\n",
    "    \"metadata\": { \"topic\": \"API Caching\", \"level\": \"beginner\" }\n",
    "  },\n",
    "  {\n",
    "    \"document\": \"HTTP status codes in APIs indicate success, client errors, or server errors.\",\n",
    "    \"metadata\": { \"topic\": \"HTTP Status Codes\", \"level\": \"beginner\" }\n",
    "  },\n",
    "  {\n",
    "    \"document\": \"The 200 status code means a request was successful, while 404 means resource not found.\",\n",
    "    \"metadata\": { \"topic\": \"HTTP Status Examples\", \"level\": \"beginner\" }\n",
    "  },\n",
    "  {\n",
    "    \"document\": \"API gateways act as intermediaries, handling requests, security, and routing.\",\n",
    "    \"metadata\": { \"topic\": \"API Gateway\", \"level\": \"advanced\" }\n",
    "  },\n",
    "  {\n",
    "    \"document\": \"Versioning APIs ensures backward compatibility when endpoints change.\",\n",
    "    \"metadata\": { \"topic\": \"API Versioning\", \"level\": \"beginner\" }\n",
    "  },\n",
    "  {\n",
    "    \"document\": \"The OpenAPI Specification provides a standardized way to document REST APIs.\",\n",
    "    \"metadata\": { \"topic\": \"OpenAPI Specification\", \"level\": \"beginner\" }\n",
    "  },\n",
    "  {\n",
    "    \"document\": \"Swagger is a popular toolset for designing, documenting, and testing APIs.\",\n",
    "    \"metadata\": { \"topic\": \"Swagger\", \"level\": \"beginner\" }\n",
    "  },\n",
    "  {\n",
    "    \"document\": \"Postman is a widely used tool for testing APIs and automating workflows.\",\n",
    "    \"metadata\": { \"topic\": \"Postman\", \"level\": \"beginner\" }\n",
    "  },\n",
    "  {\n",
    "    \"document\": \"Load testing APIs helps ensure they can handle high traffic without failures.\",\n",
    "    \"metadata\": { \"topic\": \"API Load Testing\", \"level\": \"advanced\" }\n",
    "  },\n",
    "  {\n",
    "    \"document\": \"gRPC is a modern API framework using HTTP/2 and Protocol Buffers for high performance.\",\n",
    "    \"metadata\": { \"topic\": \"gRPC\", \"level\": \"advanced\" }\n",
    "  },\n",
    "  {\n",
    "    \"document\": \"WebSockets provide real-time communication between client and server.\",\n",
    "    \"metadata\": { \"topic\": \"WebSockets\", \"level\": \"beginner\" }\n",
    "  },\n",
    "  {\n",
    "    \"document\": \"A RESTful API should be stateless, meaning each request must contain all necessary information.\",\n",
    "    \"metadata\": { \"topic\": \"Statelessness\", \"level\": \"beginner\" }\n",
    "  },\n",
    "  {\n",
    "    \"document\": \"HATEOAS is a principle in REST where responses contain links to related actions.\",\n",
    "    \"metadata\": { \"topic\": \"HATEOAS\", \"level\": \"advanced\" }\n",
    "  },\n",
    "  {\n",
    "    \"document\": \"API monitoring tracks uptime, latency, and error rates to maintain reliability.\",\n",
    "    \"metadata\": { \"topic\": \"API Monitoring\", \"level\": \"advanced\" }\n",
    "  },\n",
    "  {\n",
    "    \"document\": \"Throttling slows down requests when clients exceed usage limits.\",\n",
    "    \"metadata\": { \"topic\": \"API Throttling\", \"level\": \"advanced\" }\n",
    "  },\n",
    "  {\n",
    "    \"document\": \"Webhooks let servers notify clients about events in real time.\",\n",
    "    \"metadata\": { \"topic\": \"Webhooks\", \"level\": \"beginner\" }\n",
    "  },\n",
    "  {\n",
    "    \"document\": \"API documentation helps developers understand endpoints, request formats, and responses.\",\n",
    "    \"metadata\": { \"topic\": \"API Documentation\", \"level\": \"beginner\" }\n",
    "  },\n",
    "  {\n",
    "    \"document\": \"gRPC supports bi-directional streaming, unlike REST, which is request-response only.\",\n",
    "    \"metadata\": { \"topic\": \"gRPC Streaming\", \"level\": \"advanced\" }\n",
    "  },\n",
    "  {\n",
    "    \"document\": \"Latency in APIs refers to the time taken for a request to be processed and responded to.\",\n",
    "    \"metadata\": { \"topic\": \"API Latency\", \"level\": \"beginner\" }\n",
    "  },\n",
    "  {\n",
    "    \"document\": \"Idempotency in APIs ensures repeated requests produce the same result without side effects.\",\n",
    "    \"metadata\": { \"topic\": \"Idempotency\", \"level\": \"advanced\" }\n",
    "  },\n",
    "  {\n",
    "    \"document\": \"API mocking helps developers simulate endpoints before backend logic is ready.\",\n",
    "    \"metadata\": { \"topic\": \"API Mocking\", \"level\": \"beginner\" }\n",
    "  },\n",
    "  {\n",
    "    \"document\": \"API orchestration combines multiple API calls into a single workflow for efficiency.\",\n",
    "    \"metadata\": { \"topic\": \"API Orchestration\", \"level\": \"advanced\" }\n",
    "  },\n",
    "  {\n",
    "    \"document\": \"Security best practices include using HTTPS, authentication, and input validation.\",\n",
    "    \"metadata\": { \"topic\": \"API Security\", \"level\": \"beginner\" }\n",
    "  },\n",
    "  {\n",
    "    \"document\": \"Rate limiting strategies include token bucket, leaky bucket, and fixed window counters.\",\n",
    "    \"metadata\": { \"topic\": \"Rate Limiting Strategies\", \"level\": \"advanced\" }\n",
    "  },\n",
    "  {\n",
    "    \"document\": \"Content negotiation in REST APIs lets clients specify response formats like JSON or XML.\",\n",
    "    \"metadata\": { \"topic\": \"Content Negotiation\", \"level\": \"advanced\" }\n",
    "  },\n",
    "  {\n",
    "    \"document\": \"SDKs generated from API specifications help developers integrate APIs faster.\",\n",
    "    \"metadata\": { \"topic\": \"API SDKs\", \"level\": \"beginner\" }\n",
    "  },\n",
    "  {\n",
    "    \"document\": \"gRPC uses Protocol Buffers, a compact binary format, instead of JSON.\",\n",
    "    \"metadata\": { \"topic\": \"Protocol Buffers\", \"level\": \"advanced\" }\n",
    "  },\n",
    "  {\n",
    "    \"document\": \"Error handling in APIs should provide meaningful messages for debugging.\",\n",
    "    \"metadata\": { \"topic\": \"API Error Handling\", \"level\": \"beginner\" }\n",
    "  },\n",
    "  {\n",
    "    \"document\": \"Retry mechanisms in APIs help recover from temporary failures automatically.\",\n",
    "    \"metadata\": { \"topic\": \"Retry Mechanisms\", \"level\": \"advanced\" }\n",
    "  },\n",
    "  {\n",
    "    \"document\": \"A REST API often uses query parameters to filter, sort, or paginate results.\",\n",
    "    \"metadata\": { \"topic\": \"Query Parameters\", \"level\": \"beginner\" }\n",
    "  },\n",
    "  {\n",
    "    \"document\": \"GraphQL resolvers map queries to backend logic, determining how data is fetched.\",\n",
    "    \"metadata\": { \"topic\": \"GraphQL Resolvers\", \"level\": \"advanced\" }\n",
    "  },\n",
    "  {\n",
    "    \"document\": \"API analytics help track usage patterns and optimize performance.\",\n",
    "    \"metadata\": { \"topic\": \"API Analytics\", \"level\": \"advanced\" }\n",
    "  },\n",
    "  {\n",
    "    \"document\": \"An endpoint is a specific URL path in an API that performs a defined operation.\",\n",
    "    \"metadata\": { \"topic\": \"API Endpoints\", \"level\": \"beginner\" }\n",
    "  },\n",
    "  {\n",
    "    \"document\": \"The Richardson Maturity Model describes levels of RESTful API compliance.\",\n",
    "    \"metadata\": { \"topic\": \"Richardson Maturity Model\", \"level\": \"advanced\" }\n",
    "  },\n",
    "  {\n",
    "    \"document\": \"GraphQL mutations allow clients to modify data, similar to POST/PUT in REST.\",\n",
    "    \"metadata\": { \"topic\": \"GraphQL Mutations\", \"level\": \"beginner\" }\n",
    "  },\n",
    "  {\n",
    "    \"document\": \"API sandbox environments let developers test without affecting production data.\",\n",
    "    \"metadata\": { \"topic\": \"API Sandbox\", \"level\": \"beginner\" }\n",
    "  },\n",
    "  {\n",
    "    \"document\": \"Circuit breakers in APIs prevent cascading failures by halting requests when a service is down.\",\n",
    "    \"metadata\": { \"topic\": \"Circuit Breakers\", \"level\": \"advanced\" }\n",
    "  },\n",
    "  {\n",
    "    \"document\": \"Microservices often communicate via APIs, enabling independent deployment of services.\",\n",
    "    \"metadata\": { \"topic\": \"Microservices and APIs\", \"level\": \"advanced\" }\n",
    "  }\n",
    "]"
   ]
  },
  {
   "cell_type": "code",
   "execution_count": 10,
   "id": "74249268",
   "metadata": {},
   "outputs": [
    {
     "name": "stdout",
     "output_type": "stream",
     "text": [
      "A Web API is an interface that allows different software systems to communicate using the internet.\n",
      "REST APIs rely on HTTP methods like GET, POST, PUT, and DELETE to perform operations on resources.\n",
      "In REST, resources are identified by URLs, and data is usually exchanged in JSON or XML format.\n",
      "SOAP APIs use XML messages and follow strict standards, making them reliable for financial or enterprise systems.\n",
      "GraphQL allows clients to query specific fields, reducing the problem of over-fetching data.\n"
     ]
    }
   ],
   "source": [
    "for raw_document in raw_documents[:5]:\n",
    "    print(raw_document['document'])"
   ]
  },
  {
   "cell_type": "code",
   "execution_count": 11,
   "id": "defe1f66",
   "metadata": {},
   "outputs": [
    {
     "name": "stdout",
     "output_type": "stream",
     "text": [
      "{'topic': 'Introduction to Web APIs', 'level': 'beginner'}\n",
      "{'topic': 'REST Basics', 'level': 'beginner'}\n",
      "{'topic': 'REST Resources', 'level': 'beginner'}\n",
      "{'topic': 'SOAP APIs', 'level': 'advanced'}\n",
      "{'topic': 'GraphQL Basics', 'level': 'beginner'}\n"
     ]
    }
   ],
   "source": [
    "for raw_document in raw_documents[:5]:\n",
    "    print(raw_document['metadata'])"
   ]
  },
  {
   "cell_type": "code",
   "execution_count": 18,
   "id": "8468bee8",
   "metadata": {},
   "outputs": [
    {
     "name": "stderr",
     "output_type": "stream",
     "text": [
      "c:\\Generativeai25\\langgraph-learning\\.venv\\Lib\\site-packages\\tqdm\\auto.py:21: TqdmWarning: IProgress not found. Please update jupyter and ipywidgets. See https://ipywidgets.readthedocs.io/en/stable/user_install.html\n",
      "  from .autonotebook import tqdm as notebook_tqdm\n",
      "c:\\Generativeai25\\langgraph-learning\\.venv\\Lib\\site-packages\\huggingface_hub\\file_download.py:143: UserWarning: `huggingface_hub` cache-system uses symlinks by default to efficiently store duplicated files but your machine does not support them in C:\\Users\\jyoti\\.cache\\huggingface\\hub\\models--sentence-transformers--all-mpnet-base-v2. Caching files will still work but in a degraded version that might require more space on your disk. This warning can be disabled by setting the `HF_HUB_DISABLE_SYMLINKS_WARNING` environment variable. For more details, see https://huggingface.co/docs/huggingface_hub/how-to-cache#limitations.\n",
      "To support symlinks on Windows, you either need to activate Developer Mode or to run Python as an administrator. In order to activate developer mode, see this article: https://docs.microsoft.com/en-us/windows/apps/get-started/enable-your-device-for-development\n",
      "  warnings.warn(message)\n",
      "Xet Storage is enabled for this repo, but the 'hf_xet' package is not installed. Falling back to regular HTTP download. For better performance, install the package with: `pip install huggingface_hub[hf_xet]` or `pip install hf_xet`\n"
     ]
    }
   ],
   "source": [
    "from langchain_huggingface import HuggingFaceEmbeddings\n",
    "\n",
    "embeddings = HuggingFaceEmbeddings(model_name=\"sentence-transformers/all-mpnet-base-v2\")"
   ]
  },
  {
   "cell_type": "code",
   "execution_count": 21,
   "id": "0fa84026",
   "metadata": {},
   "outputs": [],
   "source": [
    "from langchain_community.vectorstores import Chroma\n",
    "vector_store = Chroma(\n",
    "    collection_name=\"learning_collection\",\n",
    "    embedding_function=embeddings,\n",
    "    persist_directory=\"./learning_langchain_db\",  # Where to save data locally, remove if not necessary\n",
    ")"
   ]
  },
  {
   "cell_type": "code",
   "execution_count": 22,
   "id": "b7dda396",
   "metadata": {},
   "outputs": [],
   "source": [
    "from langchain_core.documents import Document\n",
    "documents = []\n",
    "for raw_document in raw_documents:\n",
    "    document = Document(\n",
    "        page_content=raw_document['document'],\n",
    "        metadata=raw_document['metadata'])\n",
    "    documents.append(document) "
   ]
  },
  {
   "cell_type": "code",
   "execution_count": 23,
   "id": "90074ad9",
   "metadata": {},
   "outputs": [],
   "source": [
    "ids = [f\"doc-{i}\" for i in range(1, len(documents)+1)]"
   ]
  },
  {
   "cell_type": "code",
   "execution_count": 24,
   "id": "c5d587b5",
   "metadata": {},
   "outputs": [
    {
     "data": {
      "text/plain": [
       "['doc-1',\n",
       " 'doc-2',\n",
       " 'doc-3',\n",
       " 'doc-4',\n",
       " 'doc-5',\n",
       " 'doc-6',\n",
       " 'doc-7',\n",
       " 'doc-8',\n",
       " 'doc-9',\n",
       " 'doc-10',\n",
       " 'doc-11',\n",
       " 'doc-12',\n",
       " 'doc-13',\n",
       " 'doc-14',\n",
       " 'doc-15',\n",
       " 'doc-16',\n",
       " 'doc-17',\n",
       " 'doc-18',\n",
       " 'doc-19',\n",
       " 'doc-20',\n",
       " 'doc-21',\n",
       " 'doc-22',\n",
       " 'doc-23',\n",
       " 'doc-24',\n",
       " 'doc-25',\n",
       " 'doc-26',\n",
       " 'doc-27',\n",
       " 'doc-28',\n",
       " 'doc-29',\n",
       " 'doc-30',\n",
       " 'doc-31',\n",
       " 'doc-32',\n",
       " 'doc-33',\n",
       " 'doc-34',\n",
       " 'doc-35',\n",
       " 'doc-36',\n",
       " 'doc-37',\n",
       " 'doc-38',\n",
       " 'doc-39',\n",
       " 'doc-40',\n",
       " 'doc-41',\n",
       " 'doc-42',\n",
       " 'doc-43',\n",
       " 'doc-44',\n",
       " 'doc-45',\n",
       " 'doc-46',\n",
       " 'doc-47',\n",
       " 'doc-48',\n",
       " 'doc-49',\n",
       " 'doc-50']"
      ]
     },
     "execution_count": 24,
     "metadata": {},
     "output_type": "execute_result"
    }
   ],
   "source": [
    "vector_store.add_documents(\n",
    "    documents,\n",
    "    ids = ids\n",
    ")\n"
   ]
  },
  {
   "cell_type": "code",
   "execution_count": 25,
   "id": "953b5679",
   "metadata": {},
   "outputs": [
    {
     "data": {
      "text/plain": [
       "[Document(metadata={'topic': 'REST Basics', 'level': 'beginner'}, page_content='REST APIs rely on HTTP methods like GET, POST, PUT, and DELETE to perform operations on resources.'),\n",
       " Document(metadata={'level': 'beginner', 'topic': 'Statelessness'}, page_content='A RESTful API should be stateless, meaning each request must contain all necessary information.'),\n",
       " Document(metadata={'topic': 'REST Resources', 'level': 'beginner'}, page_content='In REST, resources are identified by URLs, and data is usually exchanged in JSON or XML format.'),\n",
       " Document(metadata={'topic': 'Introduction to Web APIs', 'level': 'beginner'}, page_content='A Web API is an interface that allows different software systems to communicate using the internet.'),\n",
       " Document(metadata={'level': 'beginner', 'topic': 'Query Parameters'}, page_content='A REST API often uses query parameters to filter, sort, or paginate results.'),\n",
       " Document(metadata={'topic': 'Content Negotiation', 'level': 'advanced'}, page_content='Content negotiation in REST APIs lets clients specify response formats like JSON or XML.')]"
      ]
     },
     "execution_count": 25,
     "metadata": {},
     "output_type": "execute_result"
    }
   ],
   "source": [
    "# similarity search with top_k\n",
    "vector_store.similarity_search(\"Rest API\",k=6)"
   ]
  },
  {
   "cell_type": "code",
   "execution_count": 26,
   "id": "40559ad0",
   "metadata": {},
   "outputs": [
    {
     "data": {
      "text/plain": [
       "[Document(metadata={'topic': 'REST Basics', 'level': 'beginner'}, page_content='REST APIs rely on HTTP methods like GET, POST, PUT, and DELETE to perform operations on resources.')]"
      ]
     },
     "execution_count": 26,
     "metadata": {},
     "output_type": "execute_result"
    }
   ],
   "source": [
    "\n",
    "# similarity search with top_k and metadata\n",
    "vector_store.similarity_search(\n",
    "    \"Rest API\",\n",
    "    k=2,\n",
    "    filter={'topic': 'REST Basics'})"
   ]
  },
  {
   "cell_type": "code",
   "execution_count": 27,
   "id": "bad79ed9",
   "metadata": {},
   "outputs": [
    {
     "data": {
      "text/plain": [
       "[Document(metadata={'topic': 'REST Basics', 'level': 'beginner'}, page_content='REST APIs rely on HTTP methods like GET, POST, PUT, and DELETE to perform operations on resources.'),\n",
       " Document(metadata={'level': 'beginner', 'topic': 'Statelessness'}, page_content='A RESTful API should be stateless, meaning each request must contain all necessary information.')]"
      ]
     },
     "execution_count": 27,
     "metadata": {},
     "output_type": "execute_result"
    }
   ],
   "source": [
    "vector_store.similarity_search(\n",
    "    \"Rest API\",\n",
    "    k=2,\n",
    "    filter={'level': 'beginner'})"
   ]
  },
  {
   "cell_type": "code",
   "execution_count": 28,
   "id": "2baa9851",
   "metadata": {},
   "outputs": [],
   "source": [
    "def query(question:str, k:int = 3):\n",
    "    for doc, score  in vector_store.similarity_search_with_score(question,k=k):\n",
    "        print(f\"{score}, {doc.page_content}\")"
   ]
  },
  {
   "cell_type": "code",
   "execution_count": 29,
   "id": "85505c3a",
   "metadata": {},
   "outputs": [
    {
     "name": "stdout",
     "output_type": "stream",
     "text": [
      "0.7706649303436279, Swagger is a popular toolset for designing, documenting, and testing APIs.\n",
      "1.570356845855713, JSON Web Tokens (JWT) are widely used for stateless authentication in APIs.\n"
     ]
    }
   ],
   "source": [
    "query(\"Swagger\", k=2)\n"
   ]
  },
  {
   "cell_type": "code",
   "execution_count": 30,
   "id": "ab8e2ad8",
   "metadata": {},
   "outputs": [
    {
     "name": "stdout",
     "output_type": "stream",
     "text": [
      "0.9234118461608887, gRPC supports bi-directional streaming, unlike REST, which is request-response only.\n",
      "0.9401766061782837, gRPC uses Protocol Buffers, a compact binary format, instead of JSON.\n",
      "1.011531949043274, gRPC is a modern API framework using HTTP/2 and Protocol Buffers for high performance.\n"
     ]
    }
   ],
   "source": [
    "query(\"GRpc\", k=3)"
   ]
  }
 ],
 "metadata": {
  "kernelspec": {
   "display_name": ".venv (3.11.9)",
   "language": "python",
   "name": "python3"
  },
  "language_info": {
   "codemirror_mode": {
    "name": "ipython",
    "version": 3
   },
   "file_extension": ".py",
   "mimetype": "text/x-python",
   "name": "python",
   "nbconvert_exporter": "python",
   "pygments_lexer": "ipython3",
   "version": "3.11.9"
  }
 },
 "nbformat": 4,
 "nbformat_minor": 5
}
