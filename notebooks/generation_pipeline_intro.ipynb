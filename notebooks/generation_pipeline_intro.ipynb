{
 "cells": [
  {
   "cell_type": "code",
   "execution_count": 2,
   "id": "6903e36f",
   "metadata": {},
   "outputs": [
    {
     "name": "stdout",
     "output_type": "stream",
     "text": [
      "16\n"
     ]
    }
   ],
   "source": [
    "file_path = \"history.txt\"\n",
    "data = []\n",
    "with open(file=file_path, mode='r') as history_file:\n",
    "    data = history_file.readlines()\n",
    "print(len(data))"
   ]
  },
  {
   "cell_type": "code",
   "execution_count": 3,
   "id": "f3e5846a",
   "metadata": {},
   "outputs": [],
   "source": [
    "context = data[2]"
   ]
  },
  {
   "cell_type": "code",
   "execution_count": 4,
   "id": "9364deb3",
   "metadata": {},
   "outputs": [],
   "source": [
    "dummy_prompt = f\"you are an helpful assistant looking into the context{context}. aelaborate the information\""
   ]
  },
  {
   "cell_type": "code",
   "execution_count": 5,
   "id": "ffedc515",
   "metadata": {},
   "outputs": [],
   "source": [
    "from langchain.chat_models import init_chat_model"
   ]
  },
  {
   "cell_type": "code",
   "execution_count": 6,
   "id": "53607eb5",
   "metadata": {},
   "outputs": [],
   "source": [
    "llm = init_chat_model(\n",
    "    model=\"gemini-2.5-flash\",\n",
    "    model_provider=\"google_vertexai\")"
   ]
  },
  {
   "cell_type": "code",
   "execution_count": 7,
   "id": "d2c7b626",
   "metadata": {},
   "outputs": [],
   "source": [
    "llm_response = llm.invoke(input=dummy_prompt)"
   ]
  },
  {
   "cell_type": "code",
   "execution_count": 8,
   "id": "2913e281",
   "metadata": {},
   "outputs": [
    {
     "data": {
      "text/plain": [
       "\"The year 1952 marks a truly iconic moment in Indian cricket history, as it was the year **India secured their very first Test match victory, defeating England at Madras (now Chennai).**\\n\\nHere's an elaboration on this landmark event:\\n\\n1.  **Breaking a Two-Decade Drought:** India had gained Test status in 1932, making their debut against England at Lord's. For two decades, they had played 24 Test matches, enduring a string of losses and a few hard-fought draws, but never quite managing to cross the finish line with a win. This victory was thus the culmination of 20 years of waiting, struggle, and perseverance.\\n\\n2.  **The Context of the Series:** The match was the 5th and final Test of a five-match series against the touring English team, led by Donald Carr. England had already won the series, leading 1-0 with three draws. India's win meant they avoided a series whitewash and ended the series on a high note, drawing it 1-1.\\n\\n3.  **The Venue:** The historic victory took place at the MA Chidambaram Stadium (then known as the Madras Cricket Club Ground), a ground that would later become famous for its spin-friendly pitches.\\n\\n4.  **Key Performances – The Architects of Victory:**\\n    *   **Vinoo Mankad's All-Round Brilliance:** The legendary Indian all-rounder was the undisputed hero of the match. With the ball, he delivered a heroic performance, taking **8 wickets for 55 runs in the first innings** and following it up with **4 wickets for 53 runs in the second innings**, finishing with incredible match figures of 12/108. He also contributed a crucial 35 runs with the bat.\\n    *   **Ghulam Ahmed's Support:** Mankad was ably supported by fellow spinner Ghulam Ahmed, who took 4/77 in the first innings, ensuring England were bundled out cheaply.\\n    *   **Batting Dominance:** After restricting England, India's batsmen rose to the occasion. **Pankaj Roy (111)** and **Polly Umrigar (130*)** both scored maiden Test centuries, laying a strong foundation and allowing India to declare their innings with a massive lead.\\n\\n5.  **The Match Result:** India won by an emphatic **innings and 8 runs**.\\n    *   England 1st Innings: 266 all out (Mankad 8/55)\\n    *   India 1st Innings: 457/9 declared (Umrigar 130*, Roy 111)\\n    *   England 2nd Innings: 183 all out (Mankad 4/53)\\n\\n6.  **Significance and Impact:**\\n    *   **Immense Psychological Boost:** This victory was far more than just a notch in the win column. It provided an immense psychological boost to the Indian team and the entire cricketing nation. It proved to the world, and more importantly to themselves, that they could compete and win against established cricketing nations.\\n    *   **National Pride:** Coming just five years after independence, this triumph resonated deeply with the burgeoning national pride of India. It was a moment of collective joy and celebration.\\n    *   **Laying a Foundation:** This win laid a crucial foundation for the future of Indian cricket, instilling belief and confidence that would propel them towards greater successes in the decades to come.\\n\\nThe 1952 victory in Madras against England remains a cherished milestone, a testament to resilience and the dawning of a new, competitive era for Indian cricket.\""
      ]
     },
     "execution_count": 8,
     "metadata": {},
     "output_type": "execute_result"
    }
   ],
   "source": [
    "llm_response.content"
   ]
  },
  {
   "cell_type": "code",
   "execution_count": 10,
   "id": "9a0f14e3",
   "metadata": {},
   "outputs": [
    {
     "name": "stdout",
     "output_type": "stream",
     "text": [
      "==================================\u001b[1m Ai Message \u001b[0m==================================\n",
      "\n",
      "The year 1952 marks a truly iconic moment in Indian cricket history, as it was the year **India secured their very first Test match victory, defeating England at Madras (now Chennai).**\n",
      "\n",
      "Here's an elaboration on this landmark event:\n",
      "\n",
      "1.  **Breaking a Two-Decade Drought:** India had gained Test status in 1932, making their debut against England at Lord's. For two decades, they had played 24 Test matches, enduring a string of losses and a few hard-fought draws, but never quite managing to cross the finish line with a win. This victory was thus the culmination of 20 years of waiting, struggle, and perseverance.\n",
      "\n",
      "2.  **The Context of the Series:** The match was the 5th and final Test of a five-match series against the touring English team, led by Donald Carr. England had already won the series, leading 1-0 with three draws. India's win meant they avoided a series whitewash and ended the series on a high note, drawing it 1-1.\n",
      "\n",
      "3.  **The Venue:** The historic victory took place at the MA Chidambaram Stadium (then known as the Madras Cricket Club Ground), a ground that would later become famous for its spin-friendly pitches.\n",
      "\n",
      "4.  **Key Performances – The Architects of Victory:**\n",
      "    *   **Vinoo Mankad's All-Round Brilliance:** The legendary Indian all-rounder was the undisputed hero of the match. With the ball, he delivered a heroic performance, taking **8 wickets for 55 runs in the first innings** and following it up with **4 wickets for 53 runs in the second innings**, finishing with incredible match figures of 12/108. He also contributed a crucial 35 runs with the bat.\n",
      "    *   **Ghulam Ahmed's Support:** Mankad was ably supported by fellow spinner Ghulam Ahmed, who took 4/77 in the first innings, ensuring England were bundled out cheaply.\n",
      "    *   **Batting Dominance:** After restricting England, India's batsmen rose to the occasion. **Pankaj Roy (111)** and **Polly Umrigar (130*)** both scored maiden Test centuries, laying a strong foundation and allowing India to declare their innings with a massive lead.\n",
      "\n",
      "5.  **The Match Result:** India won by an emphatic **innings and 8 runs**.\n",
      "    *   England 1st Innings: 266 all out (Mankad 8/55)\n",
      "    *   India 1st Innings: 457/9 declared (Umrigar 130*, Roy 111)\n",
      "    *   England 2nd Innings: 183 all out (Mankad 4/53)\n",
      "\n",
      "6.  **Significance and Impact:**\n",
      "    *   **Immense Psychological Boost:** This victory was far more than just a notch in the win column. It provided an immense psychological boost to the Indian team and the entire cricketing nation. It proved to the world, and more importantly to themselves, that they could compete and win against established cricketing nations.\n",
      "    *   **National Pride:** Coming just five years after independence, this triumph resonated deeply with the burgeoning national pride of India. It was a moment of collective joy and celebration.\n",
      "    *   **Laying a Foundation:** This win laid a crucial foundation for the future of Indian cricket, instilling belief and confidence that would propel them towards greater successes in the decades to come.\n",
      "\n",
      "The 1952 victory in Madras against England remains a cherished milestone, a testament to resilience and the dawning of a new, competitive era for Indian cricket.\n"
     ]
    }
   ],
   "source": [
    "llm_response.pretty_print()"
   ]
  }
 ],
 "metadata": {
  "kernelspec": {
   "display_name": ".venv (3.11.9)",
   "language": "python",
   "name": "python3"
  },
  "language_info": {
   "codemirror_mode": {
    "name": "ipython",
    "version": 3
   },
   "file_extension": ".py",
   "mimetype": "text/x-python",
   "name": "python",
   "nbconvert_exporter": "python",
   "pygments_lexer": "ipython3",
   "version": "3.11.9"
  }
 },
 "nbformat": 4,
 "nbformat_minor": 5
}
